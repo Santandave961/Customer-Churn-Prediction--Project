{
 "cells": [
  {
   "cell_type": "markdown",
   "id": "e6488de2",
   "metadata": {},
   "source": [
    "# Customer Churn Prediction Project"
   ]
  },
  {
   "cell_type": "code",
   "execution_count": 15,
   "id": "bf394256",
   "metadata": {},
   "outputs": [],
   "source": [
    "#  Step 1: Import libraries\n",
    "import pandas as pd\n",
    "import numpy as np\n",
    "import matplotlib.pyplot as plt\n",
    "import seaborn as sns\n",
    "from sklearn.model_selection import train_test_split, cross_val_score\n",
    "from sklearn.preprocessing import LabelEncoder,StandardScaler\n",
    "from sklearn.linear_model import LogisticRegression\n",
    "from sklearn.ensemble import RandomForestClassifier\n",
    "import xgboost as xgb\n",
    "from sklearn.metrics import (accuracy_score,roc_auc_score,classification_report,confusion_matrix,roc_curve,auc)"
   ]
  },
  {
   "cell_type": "code",
   "execution_count": 16,
   "id": "1b5baaf2",
   "metadata": {},
   "outputs": [
    {
     "name": "stdout",
     "output_type": "stream",
     "text": [
      "   customerID  gender  SeniorCitizen  ... MonthlyCharges TotalCharges  Churn\n",
      "0  7590-VHVEG  Female              0  ...          29.85        29.85     No\n",
      "1  5575-GNVDE    Male              0  ...          56.95       1889.5     No\n",
      "2  3668-QPYBK    Male              0  ...          53.85       108.15    Yes\n",
      "3  7795-CFOCW    Male              0  ...          42.30      1840.75     No\n",
      "4  9237-HQITU  Female              0  ...          70.70       151.65    Yes\n",
      "\n",
      "[5 rows x 21 columns]\n"
     ]
    }
   ],
   "source": [
    "# Step 2: Load dataset\n",
    "df = pd.read_csv(r\"C:\\Users\\USER\\Downloads\\WA_Fn-UseC_-Telco-Customer-Churn.csv\")\n",
    "print(df.head())"
   ]
  },
  {
   "cell_type": "code",
   "execution_count": 17,
   "id": "ed36f5c7",
   "metadata": {},
   "outputs": [],
   "source": [
    "# Step 3: Data Cleaning\n",
    "df.replace(\" \",np.nan, inplace=True)\n",
    "df.dropna(inplace=True)"
   ]
  },
  {
   "cell_type": "code",
   "execution_count": 18,
   "id": "e645a9b9",
   "metadata": {},
   "outputs": [],
   "source": [
    "# Convert TotalCharges to numeric\n",
    "df['TotalCharges'] = pd.to_numeric(df['TotalCharges'],\n",
    "errors='coerce')\n",
    "df.dropna(inplace=True)"
   ]
  },
  {
   "cell_type": "code",
   "execution_count": 19,
   "id": "12aad016",
   "metadata": {},
   "outputs": [],
   "source": [
    "# Step 4 : Encode categorical features\n",
    "le = LabelEncoder()\n",
    "for col in df.select_dtypes(include=['object']).columns:\n",
    " if col != 'customerID':\n",
    "    df[col] = le.fit_transform(df[col])\n",
    "df.drop('customerID',axis=1,inplace=True)"
   ]
  },
  {
   "cell_type": "code",
   "execution_count": 20,
   "id": "6f090e22",
   "metadata": {},
   "outputs": [],
   "source": [
    "# Step 5: Split data\n",
    "X = df.drop('Churn', axis=1)\n",
    "y = df['Churn']"
   ]
  },
  {
   "cell_type": "code",
   "execution_count": 21,
   "id": "55bcff26",
   "metadata": {},
   "outputs": [],
   "source": [
    "X_train, X_test, y_train, y_test = train_test_split(X,y,test_size=0.2,random_state=42)"
   ]
  },
  {
   "cell_type": "code",
   "execution_count": 22,
   "id": "c0a35ba9",
   "metadata": {},
   "outputs": [],
   "source": [
    "# Step 6 : Scale features\n",
    "scaler = StandardScaler()\n",
    "X_train = scaler.fit_transform(X_train)\n",
    "X_test = scaler.transform(X_test)"
   ]
  },
  {
   "cell_type": "code",
   "execution_count": 23,
   "id": "f52055f4",
   "metadata": {},
   "outputs": [
    {
     "name": "stdout",
     "output_type": "stream",
     "text": [
      "=== Logistic Regression ===\n",
      "Accuracy: 0.7853589196872779\n",
      "ROC-AUC: 0.6926311402850324\n",
      "              precision    recall  f1-score   support\n",
      "\n",
      "           0       0.83      0.89      0.86      1033\n",
      "           1       0.62      0.49      0.55       374\n",
      "\n",
      "    accuracy                           0.79      1407\n",
      "   macro avg       0.73      0.69      0.70      1407\n",
      "weighted avg       0.77      0.79      0.78      1407\n",
      "\n",
      "\n",
      "\n",
      "=== Random Forest ===\n",
      "Accuracy: 0.7903340440653873\n",
      "ROC-AUC: 0.6917549735726376\n",
      "              precision    recall  f1-score   support\n",
      "\n",
      "           0       0.83      0.90      0.86      1033\n",
      "           1       0.64      0.48      0.55       374\n",
      "\n",
      "    accuracy                           0.79      1407\n",
      "   macro avg       0.73      0.69      0.71      1407\n",
      "weighted avg       0.78      0.79      0.78      1407\n",
      "\n",
      "\n",
      "\n"
     ]
    },
    {
     "name": "stderr",
     "output_type": "stream",
     "text": [
      "c:\\Users\\USER\\AppData\\Local\\Programs\\Python\\Python313\\Lib\\site-packages\\xgboost\\training.py:183: UserWarning: [17:52:12] WARNING: C:\\actions-runner\\_work\\xgboost\\xgboost\\src\\learner.cc:738: \n",
      "Parameters: { \"use_label_encoder\" } are not used.\n",
      "\n",
      "  bst.update(dtrain, iteration=i, fobj=obj)\n"
     ]
    },
    {
     "name": "stdout",
     "output_type": "stream",
     "text": [
      "=== XGBoost ===\n",
      "Accuracy: 0.7640369580668088\n",
      "ROC-AUC: 0.6755517132488831\n",
      "              precision    recall  f1-score   support\n",
      "\n",
      "           0       0.82      0.86      0.84      1033\n",
      "           1       0.57      0.49      0.52       374\n",
      "\n",
      "    accuracy                           0.76      1407\n",
      "   macro avg       0.69      0.68      0.68      1407\n",
      "weighted avg       0.75      0.76      0.76      1407\n",
      "\n",
      "\n",
      "\n"
     ]
    }
   ],
   "source": [
    "# Step 7 : Train Models\n",
    "models = {\"Logistic Regression\":LogisticRegression(max_iter=1000),\n",
    "          \"Random Forest\": RandomForestClassifier(n_estimators=100,random_state=42),\n",
    "          \"XGBoost\": xgb.XGBClassifier(use_label_encoder=False, eval_metric=\"logloss\")\n",
    "}\n",
    "\n",
    "for name, model in models.items():\n",
    "    model.fit(X_train,y_train)\n",
    "    preds = model.predict(X_test)\n",
    "    print(f\"=== {name} ===\")\n",
    "    print(\"Accuracy:\", \n",
    "accuracy_score(y_test, preds))\n",
    "    print(\"ROC-AUC:\",\n",
    "roc_auc_score(y_test, preds))\n",
    "    print(classification_report(y_test, preds))\n",
    "    print(\"\\n\")\n"
   ]
  },
  {
   "cell_type": "code",
   "execution_count": 25,
   "id": "076b2001",
   "metadata": {},
   "outputs": [
    {
     "data": {
      "image/png": "[encoded data removed]",
      "text/plain": [
       "<Figure size 640x480 with 2 Axes>"
      ]
     },
     "metadata": {},
     "output_type": "display_data"
    }
   ],
   "source": [
    "# Step 8 : Confusion matrix for Best Model\n",
    "best_model = models[\"XGBoost\"]\n",
    "preds = best_model.predict(X_test)\n",
    "\n",
    "cm = confusion_matrix(y_test, preds)\n",
    "sns.heatmap(cm, annot=True, fmt='d',cmap='Blues')\n",
    "plt.title(\"Confusion Matrix - XGBoost\")\n",
    "plt.show()"
   ]
  },
  {
   "cell_type": "code",
   "execution_count": null,
   "id": "6fdd565c",
   "metadata": {},
   "outputs": [],
   "source": []
  },
  {
   "cell_type": "code",
   "execution_count": null,
   "id": "8b9be1ba",
   "metadata": {},
   "outputs": [],
   "source": []
  },
  {
   "cell_type": "code",
   "execution_count": null,
   "id": "4f887ce4",
   "metadata": {},
   "outputs": [],
   "source": []
  },
  {
   "cell_type": "code",
   "execution_count": null,
   "id": "b75bbde9",
   "metadata": {},
   "outputs": [],
   "source": []
  }
 ],
 "metadata": {
  "kernelspec": {
   "display_name": "Python 3",
   "language": "python",
   "name": "python3"
  },
  "language_info": {
   "codemirror_mode": {
    "name": "ipython",
    "version": 3
   },
   "file_extension": ".py",
   "mimetype": "text/x-python",
   "name": "python",
   "nbconvert_exporter": "python",
   "pygments_lexer": "ipython3",
   "version": "3.13.5"
  }
 },
 "nbformat": 4,
 "nbformat_minor": 5
}
